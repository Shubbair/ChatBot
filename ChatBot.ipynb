{
  "nbformat": 4,
  "nbformat_minor": 0,
  "metadata": {
    "colab": {
      "provenance": [],
      "gpuType": "T4"
    },
    "kernelspec": {
      "name": "python3",
      "display_name": "Python 3"
    },
    "language_info": {
      "name": "python"
    },
    "accelerator": "GPU",
    "gpuClass": "standard"
  },
  "cells": [
    {
      "cell_type": "markdown",
      "source": [
        "# 1. Download The Data From Kaggle"
      ],
      "metadata": {
        "id": "jXxVL8yokeHV"
      }
    },
    {
      "cell_type": "code",
      "execution_count": 1,
      "metadata": {
        "id": "pDlAlbidj_lb"
      },
      "outputs": [],
      "source": [
        "!mkdir ~/.kaggle\n",
        "!cp kaggle.json ~/.kaggle\n",
        "!chmod 600 ~/.kaggle/kaggle.json"
      ]
    },
    {
      "cell_type": "code",
      "source": [
        "! kaggle datasets download -d hijest/cleaned-data-for-the-chatbot-collected-from-movies"
      ],
      "metadata": {
        "colab": {
          "base_uri": "https://localhost:8080/"
        },
        "id": "ezDGfROokakj",
        "outputId": "9fb9d6c3-73f5-4372-a1d8-d6e763ecf9ff"
      },
      "execution_count": 2,
      "outputs": [
        {
          "output_type": "stream",
          "name": "stdout",
          "text": [
            "Downloading cleaned-data-for-the-chatbot-collected-from-movies.zip to /content\n",
            " 98% 299M/305M [00:03<00:00, 77.3MB/s]\n",
            "100% 305M/305M [00:03<00:00, 87.1MB/s]\n"
          ]
        }
      ]
    },
    {
      "cell_type": "code",
      "source": [
        "!unzip '/content/cleaned-data-for-the-chatbot-collected-from-movies.zip'"
      ],
      "metadata": {
        "colab": {
          "base_uri": "https://localhost:8080/"
        },
        "id": "KvH5ogJLkl2r",
        "outputId": "3a92afcf-d719-41f7-f9fc-ec724dd031fb"
      },
      "execution_count": 3,
      "outputs": [
        {
          "output_type": "stream",
          "name": "stdout",
          "text": [
            "Archive:  /content/cleaned-data-for-the-chatbot-collected-from-movies.zip\n",
            "  inflating: dialogs_expanded.csv    \n",
            "  inflating: input3.csv              \n",
            "  inflating: model_att29iter_expanded.data-00000-of-00001  \n",
            "  inflating: model_att29iter_expanded.index  \n",
            "  inflating: target3.csv             \n"
          ]
        }
      ]
    },
    {
      "cell_type": "markdown",
      "source": [
        "# 2. Import Libraries"
      ],
      "metadata": {
        "id": "OJuccO_XlRnm"
      }
    },
    {
      "cell_type": "code",
      "source": [
        "import re\n",
        "from tqdm import tqdm\n",
        "import nltk\n",
        "import numpy as np\n",
        "import pandas as pd\n",
        "import matplotlib.pyplot as plt\n",
        "\n",
        "from sklearn import model_selection\n",
        "import tensorflow as tf"
      ],
      "metadata": {
        "id": "BZup6YSikcNg"
      },
      "execution_count": 4,
      "outputs": []
    },
    {
      "cell_type": "markdown",
      "source": [
        "# 3. Read Data"
      ],
      "metadata": {
        "id": "-RZxuZ52kTCP"
      }
    },
    {
      "cell_type": "code",
      "source": [
        "data_frame = pd.read_csv(\"/content/dialogs_expanded.csv\", index_col=False)\n",
        "data_frame.head()"
      ],
      "metadata": {
        "colab": {
          "base_uri": "https://localhost:8080/",
          "height": 354
        },
        "id": "Yu-LVsZkkW1s",
        "outputId": "800a438b-1f43-4ade-e640-e01b948d3d99"
      },
      "execution_count": 5,
      "outputs": [
        {
          "output_type": "execute_result",
          "data": {
            "text/plain": [
              "   Unnamed: 0                                           question  \\\n",
              "0           1  Well, I thought we'd start with pronunciation,...   \n",
              "1           2  Not the hacking and gagging and spitting part....   \n",
              "2           3  You're asking me out.  That's so cute. What's ...   \n",
              "3           4  No, no, it's my fault -- we didn't have a prop...   \n",
              "4           9     Gosh, if only we could find Kat a boyfriend...   \n",
              "\n",
              "                                              answer  \\\n",
              "0  Not the hacking and gagging and spitting part....   \n",
              "1  Okay... then how 'bout we try out some French ...   \n",
              "2                                         Forget it.   \n",
              "3                                           Cameron.   \n",
              "4                          Let me see what I can do.   \n",
              "\n",
              "                                     question_as_int  \\\n",
              "0  [54, 67, 74, 74, 12, 1, 40, 1, 82, 70, 77, 83,...   \n",
              "1  [45, 77, 82, 1, 82, 70, 67, 1, 70, 63, 65, 73,...   \n",
              "2  [56, 77, 83, 8, 80, 67, 1, 63, 81, 73, 71, 76,...   \n",
              "3  [45, 77, 12, 1, 76, 77, 12, 1, 71, 82, 8, 81, ...   \n",
              "4  [38, 77, 81, 70, 12, 1, 71, 68, 1, 77, 76, 74,...   \n",
              "\n",
              "                                       answer_as_int  question_len  answer_len  \n",
              "0  [45, 77, 82, 1, 82, 70, 67, 1, 70, 63, 65, 73,...            71          55  \n",
              "1  [46, 73, 63, 87, 14, 14, 14, 1, 82, 70, 67, 76...            55          73  \n",
              "2            [37, 77, 80, 69, 67, 82, 1, 71, 82, 14]            62          10  \n",
              "3                   [34, 63, 75, 67, 80, 77, 76, 14]            65           8  \n",
              "4  [43, 67, 82, 1, 75, 67, 1, 81, 67, 67, 1, 85, ...            46          25  "
            ],
            "text/html": [
              "\n",
              "  <div id=\"df-e5e92f4f-a311-4a88-a7a6-386df170791e\">\n",
              "    <div class=\"colab-df-container\">\n",
              "      <div>\n",
              "<style scoped>\n",
              "    .dataframe tbody tr th:only-of-type {\n",
              "        vertical-align: middle;\n",
              "    }\n",
              "\n",
              "    .dataframe tbody tr th {\n",
              "        vertical-align: top;\n",
              "    }\n",
              "\n",
              "    .dataframe thead th {\n",
              "        text-align: right;\n",
              "    }\n",
              "</style>\n",
              "<table border=\"1\" class=\"dataframe\">\n",
              "  <thead>\n",
              "    <tr style=\"text-align: right;\">\n",
              "      <th></th>\n",
              "      <th>Unnamed: 0</th>\n",
              "      <th>question</th>\n",
              "      <th>answer</th>\n",
              "      <th>question_as_int</th>\n",
              "      <th>answer_as_int</th>\n",
              "      <th>question_len</th>\n",
              "      <th>answer_len</th>\n",
              "    </tr>\n",
              "  </thead>\n",
              "  <tbody>\n",
              "    <tr>\n",
              "      <th>0</th>\n",
              "      <td>1</td>\n",
              "      <td>Well, I thought we'd start with pronunciation,...</td>\n",
              "      <td>Not the hacking and gagging and spitting part....</td>\n",
              "      <td>[54, 67, 74, 74, 12, 1, 40, 1, 82, 70, 77, 83,...</td>\n",
              "      <td>[45, 77, 82, 1, 82, 70, 67, 1, 70, 63, 65, 73,...</td>\n",
              "      <td>71</td>\n",
              "      <td>55</td>\n",
              "    </tr>\n",
              "    <tr>\n",
              "      <th>1</th>\n",
              "      <td>2</td>\n",
              "      <td>Not the hacking and gagging and spitting part....</td>\n",
              "      <td>Okay... then how 'bout we try out some French ...</td>\n",
              "      <td>[45, 77, 82, 1, 82, 70, 67, 1, 70, 63, 65, 73,...</td>\n",
              "      <td>[46, 73, 63, 87, 14, 14, 14, 1, 82, 70, 67, 76...</td>\n",
              "      <td>55</td>\n",
              "      <td>73</td>\n",
              "    </tr>\n",
              "    <tr>\n",
              "      <th>2</th>\n",
              "      <td>3</td>\n",
              "      <td>You're asking me out.  That's so cute. What's ...</td>\n",
              "      <td>Forget it.</td>\n",
              "      <td>[56, 77, 83, 8, 80, 67, 1, 63, 81, 73, 71, 76,...</td>\n",
              "      <td>[37, 77, 80, 69, 67, 82, 1, 71, 82, 14]</td>\n",
              "      <td>62</td>\n",
              "      <td>10</td>\n",
              "    </tr>\n",
              "    <tr>\n",
              "      <th>3</th>\n",
              "      <td>4</td>\n",
              "      <td>No, no, it's my fault -- we didn't have a prop...</td>\n",
              "      <td>Cameron.</td>\n",
              "      <td>[45, 77, 12, 1, 76, 77, 12, 1, 71, 82, 8, 81, ...</td>\n",
              "      <td>[34, 63, 75, 67, 80, 77, 76, 14]</td>\n",
              "      <td>65</td>\n",
              "      <td>8</td>\n",
              "    </tr>\n",
              "    <tr>\n",
              "      <th>4</th>\n",
              "      <td>9</td>\n",
              "      <td>Gosh, if only we could find Kat a boyfriend...</td>\n",
              "      <td>Let me see what I can do.</td>\n",
              "      <td>[38, 77, 81, 70, 12, 1, 71, 68, 1, 77, 76, 74,...</td>\n",
              "      <td>[43, 67, 82, 1, 75, 67, 1, 81, 67, 67, 1, 85, ...</td>\n",
              "      <td>46</td>\n",
              "      <td>25</td>\n",
              "    </tr>\n",
              "  </tbody>\n",
              "</table>\n",
              "</div>\n",
              "      <button class=\"colab-df-convert\" onclick=\"convertToInteractive('df-e5e92f4f-a311-4a88-a7a6-386df170791e')\"\n",
              "              title=\"Convert this dataframe to an interactive table.\"\n",
              "              style=\"display:none;\">\n",
              "        \n",
              "  <svg xmlns=\"http://www.w3.org/2000/svg\" height=\"24px\"viewBox=\"0 0 24 24\"\n",
              "       width=\"24px\">\n",
              "    <path d=\"M0 0h24v24H0V0z\" fill=\"none\"/>\n",
              "    <path d=\"M18.56 5.44l.94 2.06.94-2.06 2.06-.94-2.06-.94-.94-2.06-.94 2.06-2.06.94zm-11 1L8.5 8.5l.94-2.06 2.06-.94-2.06-.94L8.5 2.5l-.94 2.06-2.06.94zm10 10l.94 2.06.94-2.06 2.06-.94-2.06-.94-.94-2.06-.94 2.06-2.06.94z\"/><path d=\"M17.41 7.96l-1.37-1.37c-.4-.4-.92-.59-1.43-.59-.52 0-1.04.2-1.43.59L10.3 9.45l-7.72 7.72c-.78.78-.78 2.05 0 2.83L4 21.41c.39.39.9.59 1.41.59.51 0 1.02-.2 1.41-.59l7.78-7.78 2.81-2.81c.8-.78.8-2.07 0-2.86zM5.41 20L4 18.59l7.72-7.72 1.47 1.35L5.41 20z\"/>\n",
              "  </svg>\n",
              "      </button>\n",
              "      \n",
              "  <style>\n",
              "    .colab-df-container {\n",
              "      display:flex;\n",
              "      flex-wrap:wrap;\n",
              "      gap: 12px;\n",
              "    }\n",
              "\n",
              "    .colab-df-convert {\n",
              "      background-color: #E8F0FE;\n",
              "      border: none;\n",
              "      border-radius: 50%;\n",
              "      cursor: pointer;\n",
              "      display: none;\n",
              "      fill: #1967D2;\n",
              "      height: 32px;\n",
              "      padding: 0 0 0 0;\n",
              "      width: 32px;\n",
              "    }\n",
              "\n",
              "    .colab-df-convert:hover {\n",
              "      background-color: #E2EBFA;\n",
              "      box-shadow: 0px 1px 2px rgba(60, 64, 67, 0.3), 0px 1px 3px 1px rgba(60, 64, 67, 0.15);\n",
              "      fill: #174EA6;\n",
              "    }\n",
              "\n",
              "    [theme=dark] .colab-df-convert {\n",
              "      background-color: #3B4455;\n",
              "      fill: #D2E3FC;\n",
              "    }\n",
              "\n",
              "    [theme=dark] .colab-df-convert:hover {\n",
              "      background-color: #434B5C;\n",
              "      box-shadow: 0px 1px 3px 1px rgba(0, 0, 0, 0.15);\n",
              "      filter: drop-shadow(0px 1px 2px rgba(0, 0, 0, 0.3));\n",
              "      fill: #FFFFFF;\n",
              "    }\n",
              "  </style>\n",
              "\n",
              "      <script>\n",
              "        const buttonEl =\n",
              "          document.querySelector('#df-e5e92f4f-a311-4a88-a7a6-386df170791e button.colab-df-convert');\n",
              "        buttonEl.style.display =\n",
              "          google.colab.kernel.accessAllowed ? 'block' : 'none';\n",
              "\n",
              "        async function convertToInteractive(key) {\n",
              "          const element = document.querySelector('#df-e5e92f4f-a311-4a88-a7a6-386df170791e');\n",
              "          const dataTable =\n",
              "            await google.colab.kernel.invokeFunction('convertToInteractive',\n",
              "                                                     [key], {});\n",
              "          if (!dataTable) return;\n",
              "\n",
              "          const docLinkHtml = 'Like what you see? Visit the ' +\n",
              "            '<a target=\"_blank\" href=https://colab.research.google.com/notebooks/data_table.ipynb>data table notebook</a>'\n",
              "            + ' to learn more about interactive tables.';\n",
              "          element.innerHTML = '';\n",
              "          dataTable['output_type'] = 'display_data';\n",
              "          await google.colab.output.renderOutput(dataTable, element);\n",
              "          const docLink = document.createElement('div');\n",
              "          docLink.innerHTML = docLinkHtml;\n",
              "          element.appendChild(docLink);\n",
              "        }\n",
              "      </script>\n",
              "    </div>\n",
              "  </div>\n",
              "  "
            ]
          },
          "metadata": {},
          "execution_count": 5
        }
      ]
    },
    {
      "cell_type": "markdown",
      "source": [
        "#### take only question & answer columns"
      ],
      "metadata": {
        "id": "zlnW7z0SlZWa"
      }
    },
    {
      "cell_type": "code",
      "source": [
        "data_frame = data_frame[['question','answer']]\n",
        "data_frame.head()"
      ],
      "metadata": {
        "colab": {
          "base_uri": "https://localhost:8080/",
          "height": 206
        },
        "id": "zl-WtLHck0SC",
        "outputId": "ac8b08aa-64e9-4bb9-a05b-3a06c6e36f90"
      },
      "execution_count": 6,
      "outputs": [
        {
          "output_type": "execute_result",
          "data": {
            "text/plain": [
              "                                            question  \\\n",
              "0  Well, I thought we'd start with pronunciation,...   \n",
              "1  Not the hacking and gagging and spitting part....   \n",
              "2  You're asking me out.  That's so cute. What's ...   \n",
              "3  No, no, it's my fault -- we didn't have a prop...   \n",
              "4     Gosh, if only we could find Kat a boyfriend...   \n",
              "\n",
              "                                              answer  \n",
              "0  Not the hacking and gagging and spitting part....  \n",
              "1  Okay... then how 'bout we try out some French ...  \n",
              "2                                         Forget it.  \n",
              "3                                           Cameron.  \n",
              "4                          Let me see what I can do.  "
            ],
            "text/html": [
              "\n",
              "  <div id=\"df-947cbacb-cd9b-4a42-a238-0de502dc6a71\">\n",
              "    <div class=\"colab-df-container\">\n",
              "      <div>\n",
              "<style scoped>\n",
              "    .dataframe tbody tr th:only-of-type {\n",
              "        vertical-align: middle;\n",
              "    }\n",
              "\n",
              "    .dataframe tbody tr th {\n",
              "        vertical-align: top;\n",
              "    }\n",
              "\n",
              "    .dataframe thead th {\n",
              "        text-align: right;\n",
              "    }\n",
              "</style>\n",
              "<table border=\"1\" class=\"dataframe\">\n",
              "  <thead>\n",
              "    <tr style=\"text-align: right;\">\n",
              "      <th></th>\n",
              "      <th>question</th>\n",
              "      <th>answer</th>\n",
              "    </tr>\n",
              "  </thead>\n",
              "  <tbody>\n",
              "    <tr>\n",
              "      <th>0</th>\n",
              "      <td>Well, I thought we'd start with pronunciation,...</td>\n",
              "      <td>Not the hacking and gagging and spitting part....</td>\n",
              "    </tr>\n",
              "    <tr>\n",
              "      <th>1</th>\n",
              "      <td>Not the hacking and gagging and spitting part....</td>\n",
              "      <td>Okay... then how 'bout we try out some French ...</td>\n",
              "    </tr>\n",
              "    <tr>\n",
              "      <th>2</th>\n",
              "      <td>You're asking me out.  That's so cute. What's ...</td>\n",
              "      <td>Forget it.</td>\n",
              "    </tr>\n",
              "    <tr>\n",
              "      <th>3</th>\n",
              "      <td>No, no, it's my fault -- we didn't have a prop...</td>\n",
              "      <td>Cameron.</td>\n",
              "    </tr>\n",
              "    <tr>\n",
              "      <th>4</th>\n",
              "      <td>Gosh, if only we could find Kat a boyfriend...</td>\n",
              "      <td>Let me see what I can do.</td>\n",
              "    </tr>\n",
              "  </tbody>\n",
              "</table>\n",
              "</div>\n",
              "      <button class=\"colab-df-convert\" onclick=\"convertToInteractive('df-947cbacb-cd9b-4a42-a238-0de502dc6a71')\"\n",
              "              title=\"Convert this dataframe to an interactive table.\"\n",
              "              style=\"display:none;\">\n",
              "        \n",
              "  <svg xmlns=\"http://www.w3.org/2000/svg\" height=\"24px\"viewBox=\"0 0 24 24\"\n",
              "       width=\"24px\">\n",
              "    <path d=\"M0 0h24v24H0V0z\" fill=\"none\"/>\n",
              "    <path d=\"M18.56 5.44l.94 2.06.94-2.06 2.06-.94-2.06-.94-.94-2.06-.94 2.06-2.06.94zm-11 1L8.5 8.5l.94-2.06 2.06-.94-2.06-.94L8.5 2.5l-.94 2.06-2.06.94zm10 10l.94 2.06.94-2.06 2.06-.94-2.06-.94-.94-2.06-.94 2.06-2.06.94z\"/><path d=\"M17.41 7.96l-1.37-1.37c-.4-.4-.92-.59-1.43-.59-.52 0-1.04.2-1.43.59L10.3 9.45l-7.72 7.72c-.78.78-.78 2.05 0 2.83L4 21.41c.39.39.9.59 1.41.59.51 0 1.02-.2 1.41-.59l7.78-7.78 2.81-2.81c.8-.78.8-2.07 0-2.86zM5.41 20L4 18.59l7.72-7.72 1.47 1.35L5.41 20z\"/>\n",
              "  </svg>\n",
              "      </button>\n",
              "      \n",
              "  <style>\n",
              "    .colab-df-container {\n",
              "      display:flex;\n",
              "      flex-wrap:wrap;\n",
              "      gap: 12px;\n",
              "    }\n",
              "\n",
              "    .colab-df-convert {\n",
              "      background-color: #E8F0FE;\n",
              "      border: none;\n",
              "      border-radius: 50%;\n",
              "      cursor: pointer;\n",
              "      display: none;\n",
              "      fill: #1967D2;\n",
              "      height: 32px;\n",
              "      padding: 0 0 0 0;\n",
              "      width: 32px;\n",
              "    }\n",
              "\n",
              "    .colab-df-convert:hover {\n",
              "      background-color: #E2EBFA;\n",
              "      box-shadow: 0px 1px 2px rgba(60, 64, 67, 0.3), 0px 1px 3px 1px rgba(60, 64, 67, 0.15);\n",
              "      fill: #174EA6;\n",
              "    }\n",
              "\n",
              "    [theme=dark] .colab-df-convert {\n",
              "      background-color: #3B4455;\n",
              "      fill: #D2E3FC;\n",
              "    }\n",
              "\n",
              "    [theme=dark] .colab-df-convert:hover {\n",
              "      background-color: #434B5C;\n",
              "      box-shadow: 0px 1px 3px 1px rgba(0, 0, 0, 0.15);\n",
              "      filter: drop-shadow(0px 1px 2px rgba(0, 0, 0, 0.3));\n",
              "      fill: #FFFFFF;\n",
              "    }\n",
              "  </style>\n",
              "\n",
              "      <script>\n",
              "        const buttonEl =\n",
              "          document.querySelector('#df-947cbacb-cd9b-4a42-a238-0de502dc6a71 button.colab-df-convert');\n",
              "        buttonEl.style.display =\n",
              "          google.colab.kernel.accessAllowed ? 'block' : 'none';\n",
              "\n",
              "        async function convertToInteractive(key) {\n",
              "          const element = document.querySelector('#df-947cbacb-cd9b-4a42-a238-0de502dc6a71');\n",
              "          const dataTable =\n",
              "            await google.colab.kernel.invokeFunction('convertToInteractive',\n",
              "                                                     [key], {});\n",
              "          if (!dataTable) return;\n",
              "\n",
              "          const docLinkHtml = 'Like what you see? Visit the ' +\n",
              "            '<a target=\"_blank\" href=https://colab.research.google.com/notebooks/data_table.ipynb>data table notebook</a>'\n",
              "            + ' to learn more about interactive tables.';\n",
              "          element.innerHTML = '';\n",
              "          dataTable['output_type'] = 'display_data';\n",
              "          await google.colab.output.renderOutput(dataTable, element);\n",
              "          const docLink = document.createElement('div');\n",
              "          docLink.innerHTML = docLinkHtml;\n",
              "          element.appendChild(docLink);\n",
              "        }\n",
              "      </script>\n",
              "    </div>\n",
              "  </div>\n",
              "  "
            ]
          },
          "metadata": {},
          "execution_count": 6
        }
      ]
    },
    {
      "cell_type": "markdown",
      "source": [
        "#### cleaning text function"
      ],
      "metadata": {
        "id": "OmRcn-N0JP-i"
      }
    },
    {
      "cell_type": "code",
      "source": [
        "def cleaning_text(text):\n",
        "    text = text.lower()\n",
        "    text = re.sub(\"\", \"\", text)\n",
        "    text = re.sub(\"https?://\\S+|www\\.\\S+\", \"\", text)\n",
        "    text = re.sub(\"<.*?>+\", \"\", text)\n",
        "    text = re.sub(\"\\n\", \"\", text)\n",
        "    text = re.sub(r\"[^\\w]\", \" \", text)\n",
        "    text = re.sub(\"\\w*\\d\\w*\", \"\", text)\n",
        "    text = \" \".join(filter(lambda x: x[0] != \"@\", text.split()))\n",
        "    return text\n",
        "\n",
        "data_frame.question = data_frame.question.map(cleaning_text)\n",
        "data_frame.answer = data_frame.answer.map(cleaning_text)"
      ],
      "metadata": {
        "id": "_sBJcPKuI4hE"
      },
      "execution_count": 7,
      "outputs": []
    },
    {
      "cell_type": "code",
      "source": [
        "data_frame.head()"
      ],
      "metadata": {
        "colab": {
          "base_uri": "https://localhost:8080/",
          "height": 206
        },
        "id": "7zqRexRMJXxr",
        "outputId": "bbf3add2-f2d3-4552-9e34-4d5807d9f71e"
      },
      "execution_count": 8,
      "outputs": [
        {
          "output_type": "execute_result",
          "data": {
            "text/plain": [
              "                                            question  \\\n",
              "0  well i thought we d start with pronunciation i...   \n",
              "1  not the hacking and gagging and spitting part ...   \n",
              "2  you re asking me out that s so cute what s you...   \n",
              "3  no no it s my fault we didn t have a proper in...   \n",
              "4         gosh if only we could find kat a boyfriend   \n",
              "\n",
              "                                              answer  \n",
              "0  not the hacking and gagging and spitting part ...  \n",
              "1  okay then how bout we try out some french cuis...  \n",
              "2                                          forget it  \n",
              "3                                            cameron  \n",
              "4                           let me see what i can do  "
            ],
            "text/html": [
              "\n",
              "  <div id=\"df-5e8f4f8b-dbc0-44d2-89c3-c669ad90cd64\">\n",
              "    <div class=\"colab-df-container\">\n",
              "      <div>\n",
              "<style scoped>\n",
              "    .dataframe tbody tr th:only-of-type {\n",
              "        vertical-align: middle;\n",
              "    }\n",
              "\n",
              "    .dataframe tbody tr th {\n",
              "        vertical-align: top;\n",
              "    }\n",
              "\n",
              "    .dataframe thead th {\n",
              "        text-align: right;\n",
              "    }\n",
              "</style>\n",
              "<table border=\"1\" class=\"dataframe\">\n",
              "  <thead>\n",
              "    <tr style=\"text-align: right;\">\n",
              "      <th></th>\n",
              "      <th>question</th>\n",
              "      <th>answer</th>\n",
              "    </tr>\n",
              "  </thead>\n",
              "  <tbody>\n",
              "    <tr>\n",
              "      <th>0</th>\n",
              "      <td>well i thought we d start with pronunciation i...</td>\n",
              "      <td>not the hacking and gagging and spitting part ...</td>\n",
              "    </tr>\n",
              "    <tr>\n",
              "      <th>1</th>\n",
              "      <td>not the hacking and gagging and spitting part ...</td>\n",
              "      <td>okay then how bout we try out some french cuis...</td>\n",
              "    </tr>\n",
              "    <tr>\n",
              "      <th>2</th>\n",
              "      <td>you re asking me out that s so cute what s you...</td>\n",
              "      <td>forget it</td>\n",
              "    </tr>\n",
              "    <tr>\n",
              "      <th>3</th>\n",
              "      <td>no no it s my fault we didn t have a proper in...</td>\n",
              "      <td>cameron</td>\n",
              "    </tr>\n",
              "    <tr>\n",
              "      <th>4</th>\n",
              "      <td>gosh if only we could find kat a boyfriend</td>\n",
              "      <td>let me see what i can do</td>\n",
              "    </tr>\n",
              "  </tbody>\n",
              "</table>\n",
              "</div>\n",
              "      <button class=\"colab-df-convert\" onclick=\"convertToInteractive('df-5e8f4f8b-dbc0-44d2-89c3-c669ad90cd64')\"\n",
              "              title=\"Convert this dataframe to an interactive table.\"\n",
              "              style=\"display:none;\">\n",
              "        \n",
              "  <svg xmlns=\"http://www.w3.org/2000/svg\" height=\"24px\"viewBox=\"0 0 24 24\"\n",
              "       width=\"24px\">\n",
              "    <path d=\"M0 0h24v24H0V0z\" fill=\"none\"/>\n",
              "    <path d=\"M18.56 5.44l.94 2.06.94-2.06 2.06-.94-2.06-.94-.94-2.06-.94 2.06-2.06.94zm-11 1L8.5 8.5l.94-2.06 2.06-.94-2.06-.94L8.5 2.5l-.94 2.06-2.06.94zm10 10l.94 2.06.94-2.06 2.06-.94-2.06-.94-.94-2.06-.94 2.06-2.06.94z\"/><path d=\"M17.41 7.96l-1.37-1.37c-.4-.4-.92-.59-1.43-.59-.52 0-1.04.2-1.43.59L10.3 9.45l-7.72 7.72c-.78.78-.78 2.05 0 2.83L4 21.41c.39.39.9.59 1.41.59.51 0 1.02-.2 1.41-.59l7.78-7.78 2.81-2.81c.8-.78.8-2.07 0-2.86zM5.41 20L4 18.59l7.72-7.72 1.47 1.35L5.41 20z\"/>\n",
              "  </svg>\n",
              "      </button>\n",
              "      \n",
              "  <style>\n",
              "    .colab-df-container {\n",
              "      display:flex;\n",
              "      flex-wrap:wrap;\n",
              "      gap: 12px;\n",
              "    }\n",
              "\n",
              "    .colab-df-convert {\n",
              "      background-color: #E8F0FE;\n",
              "      border: none;\n",
              "      border-radius: 50%;\n",
              "      cursor: pointer;\n",
              "      display: none;\n",
              "      fill: #1967D2;\n",
              "      height: 32px;\n",
              "      padding: 0 0 0 0;\n",
              "      width: 32px;\n",
              "    }\n",
              "\n",
              "    .colab-df-convert:hover {\n",
              "      background-color: #E2EBFA;\n",
              "      box-shadow: 0px 1px 2px rgba(60, 64, 67, 0.3), 0px 1px 3px 1px rgba(60, 64, 67, 0.15);\n",
              "      fill: #174EA6;\n",
              "    }\n",
              "\n",
              "    [theme=dark] .colab-df-convert {\n",
              "      background-color: #3B4455;\n",
              "      fill: #D2E3FC;\n",
              "    }\n",
              "\n",
              "    [theme=dark] .colab-df-convert:hover {\n",
              "      background-color: #434B5C;\n",
              "      box-shadow: 0px 1px 3px 1px rgba(0, 0, 0, 0.15);\n",
              "      filter: drop-shadow(0px 1px 2px rgba(0, 0, 0, 0.3));\n",
              "      fill: #FFFFFF;\n",
              "    }\n",
              "  </style>\n",
              "\n",
              "      <script>\n",
              "        const buttonEl =\n",
              "          document.querySelector('#df-5e8f4f8b-dbc0-44d2-89c3-c669ad90cd64 button.colab-df-convert');\n",
              "        buttonEl.style.display =\n",
              "          google.colab.kernel.accessAllowed ? 'block' : 'none';\n",
              "\n",
              "        async function convertToInteractive(key) {\n",
              "          const element = document.querySelector('#df-5e8f4f8b-dbc0-44d2-89c3-c669ad90cd64');\n",
              "          const dataTable =\n",
              "            await google.colab.kernel.invokeFunction('convertToInteractive',\n",
              "                                                     [key], {});\n",
              "          if (!dataTable) return;\n",
              "\n",
              "          const docLinkHtml = 'Like what you see? Visit the ' +\n",
              "            '<a target=\"_blank\" href=https://colab.research.google.com/notebooks/data_table.ipynb>data table notebook</a>'\n",
              "            + ' to learn more about interactive tables.';\n",
              "          element.innerHTML = '';\n",
              "          dataTable['output_type'] = 'display_data';\n",
              "          await google.colab.output.renderOutput(dataTable, element);\n",
              "          const docLink = document.createElement('div');\n",
              "          docLink.innerHTML = docLinkHtml;\n",
              "          element.appendChild(docLink);\n",
              "        }\n",
              "      </script>\n",
              "    </div>\n",
              "  </div>\n",
              "  "
            ]
          },
          "metadata": {},
          "execution_count": 8
        }
      ]
    },
    {
      "cell_type": "markdown",
      "source": [
        "#### write function to add <add> at the beginning of text and <end> at last."
      ],
      "metadata": {
        "id": "YD8V-bu4uFen"
      }
    },
    {
      "cell_type": "code",
      "source": [
        "def add_start_end(text):\n",
        "    text = f\"<start> {text} <end>\"\n",
        "    return text\n",
        "\n",
        "data_frame.question = data_frame.question.map(add_start_end)\n",
        "data_frame.answer = data_frame.answer.map(add_start_end)"
      ],
      "metadata": {
        "id": "ZqVWfCu2I9PW"
      },
      "execution_count": 9,
      "outputs": []
    },
    {
      "cell_type": "code",
      "source": [
        "data_frame.head()"
      ],
      "metadata": {
        "colab": {
          "base_uri": "https://localhost:8080/",
          "height": 206
        },
        "id": "2MR5FXONJgbg",
        "outputId": "5bb0bc1e-9db9-42ed-9c7b-a2f5e289d348"
      },
      "execution_count": 10,
      "outputs": [
        {
          "output_type": "execute_result",
          "data": {
            "text/plain": [
              "                                            question  \\\n",
              "0  <start> well i thought we d start with pronunc...   \n",
              "1  <start> not the hacking and gagging and spitti...   \n",
              "2  <start> you re asking me out that s so cute wh...   \n",
              "3  <start> no no it s my fault we didn t have a p...   \n",
              "4  <start> gosh if only we could find kat a boyfr...   \n",
              "\n",
              "                                              answer  \n",
              "0  <start> not the hacking and gagging and spitti...  \n",
              "1  <start> okay then how bout we try out some fre...  \n",
              "2                            <start> forget it <end>  \n",
              "3                              <start> cameron <end>  \n",
              "4             <start> let me see what i can do <end>  "
            ],
            "text/html": [
              "\n",
              "  <div id=\"df-8012fc53-0e81-4a31-abe8-08e3a48be3d3\">\n",
              "    <div class=\"colab-df-container\">\n",
              "      <div>\n",
              "<style scoped>\n",
              "    .dataframe tbody tr th:only-of-type {\n",
              "        vertical-align: middle;\n",
              "    }\n",
              "\n",
              "    .dataframe tbody tr th {\n",
              "        vertical-align: top;\n",
              "    }\n",
              "\n",
              "    .dataframe thead th {\n",
              "        text-align: right;\n",
              "    }\n",
              "</style>\n",
              "<table border=\"1\" class=\"dataframe\">\n",
              "  <thead>\n",
              "    <tr style=\"text-align: right;\">\n",
              "      <th></th>\n",
              "      <th>question</th>\n",
              "      <th>answer</th>\n",
              "    </tr>\n",
              "  </thead>\n",
              "  <tbody>\n",
              "    <tr>\n",
              "      <th>0</th>\n",
              "      <td>&lt;start&gt; well i thought we d start with pronunc...</td>\n",
              "      <td>&lt;start&gt; not the hacking and gagging and spitti...</td>\n",
              "    </tr>\n",
              "    <tr>\n",
              "      <th>1</th>\n",
              "      <td>&lt;start&gt; not the hacking and gagging and spitti...</td>\n",
              "      <td>&lt;start&gt; okay then how bout we try out some fre...</td>\n",
              "    </tr>\n",
              "    <tr>\n",
              "      <th>2</th>\n",
              "      <td>&lt;start&gt; you re asking me out that s so cute wh...</td>\n",
              "      <td>&lt;start&gt; forget it &lt;end&gt;</td>\n",
              "    </tr>\n",
              "    <tr>\n",
              "      <th>3</th>\n",
              "      <td>&lt;start&gt; no no it s my fault we didn t have a p...</td>\n",
              "      <td>&lt;start&gt; cameron &lt;end&gt;</td>\n",
              "    </tr>\n",
              "    <tr>\n",
              "      <th>4</th>\n",
              "      <td>&lt;start&gt; gosh if only we could find kat a boyfr...</td>\n",
              "      <td>&lt;start&gt; let me see what i can do &lt;end&gt;</td>\n",
              "    </tr>\n",
              "  </tbody>\n",
              "</table>\n",
              "</div>\n",
              "      <button class=\"colab-df-convert\" onclick=\"convertToInteractive('df-8012fc53-0e81-4a31-abe8-08e3a48be3d3')\"\n",
              "              title=\"Convert this dataframe to an interactive table.\"\n",
              "              style=\"display:none;\">\n",
              "        \n",
              "  <svg xmlns=\"http://www.w3.org/2000/svg\" height=\"24px\"viewBox=\"0 0 24 24\"\n",
              "       width=\"24px\">\n",
              "    <path d=\"M0 0h24v24H0V0z\" fill=\"none\"/>\n",
              "    <path d=\"M18.56 5.44l.94 2.06.94-2.06 2.06-.94-2.06-.94-.94-2.06-.94 2.06-2.06.94zm-11 1L8.5 8.5l.94-2.06 2.06-.94-2.06-.94L8.5 2.5l-.94 2.06-2.06.94zm10 10l.94 2.06.94-2.06 2.06-.94-2.06-.94-.94-2.06-.94 2.06-2.06.94z\"/><path d=\"M17.41 7.96l-1.37-1.37c-.4-.4-.92-.59-1.43-.59-.52 0-1.04.2-1.43.59L10.3 9.45l-7.72 7.72c-.78.78-.78 2.05 0 2.83L4 21.41c.39.39.9.59 1.41.59.51 0 1.02-.2 1.41-.59l7.78-7.78 2.81-2.81c.8-.78.8-2.07 0-2.86zM5.41 20L4 18.59l7.72-7.72 1.47 1.35L5.41 20z\"/>\n",
              "  </svg>\n",
              "      </button>\n",
              "      \n",
              "  <style>\n",
              "    .colab-df-container {\n",
              "      display:flex;\n",
              "      flex-wrap:wrap;\n",
              "      gap: 12px;\n",
              "    }\n",
              "\n",
              "    .colab-df-convert {\n",
              "      background-color: #E8F0FE;\n",
              "      border: none;\n",
              "      border-radius: 50%;\n",
              "      cursor: pointer;\n",
              "      display: none;\n",
              "      fill: #1967D2;\n",
              "      height: 32px;\n",
              "      padding: 0 0 0 0;\n",
              "      width: 32px;\n",
              "    }\n",
              "\n",
              "    .colab-df-convert:hover {\n",
              "      background-color: #E2EBFA;\n",
              "      box-shadow: 0px 1px 2px rgba(60, 64, 67, 0.3), 0px 1px 3px 1px rgba(60, 64, 67, 0.15);\n",
              "      fill: #174EA6;\n",
              "    }\n",
              "\n",
              "    [theme=dark] .colab-df-convert {\n",
              "      background-color: #3B4455;\n",
              "      fill: #D2E3FC;\n",
              "    }\n",
              "\n",
              "    [theme=dark] .colab-df-convert:hover {\n",
              "      background-color: #434B5C;\n",
              "      box-shadow: 0px 1px 3px 1px rgba(0, 0, 0, 0.15);\n",
              "      filter: drop-shadow(0px 1px 2px rgba(0, 0, 0, 0.3));\n",
              "      fill: #FFFFFF;\n",
              "    }\n",
              "  </style>\n",
              "\n",
              "      <script>\n",
              "        const buttonEl =\n",
              "          document.querySelector('#df-8012fc53-0e81-4a31-abe8-08e3a48be3d3 button.colab-df-convert');\n",
              "        buttonEl.style.display =\n",
              "          google.colab.kernel.accessAllowed ? 'block' : 'none';\n",
              "\n",
              "        async function convertToInteractive(key) {\n",
              "          const element = document.querySelector('#df-8012fc53-0e81-4a31-abe8-08e3a48be3d3');\n",
              "          const dataTable =\n",
              "            await google.colab.kernel.invokeFunction('convertToInteractive',\n",
              "                                                     [key], {});\n",
              "          if (!dataTable) return;\n",
              "\n",
              "          const docLinkHtml = 'Like what you see? Visit the ' +\n",
              "            '<a target=\"_blank\" href=https://colab.research.google.com/notebooks/data_table.ipynb>data table notebook</a>'\n",
              "            + ' to learn more about interactive tables.';\n",
              "          element.innerHTML = '';\n",
              "          dataTable['output_type'] = 'display_data';\n",
              "          await google.colab.output.renderOutput(dataTable, element);\n",
              "          const docLink = document.createElement('div');\n",
              "          docLink.innerHTML = docLinkHtml;\n",
              "          element.appendChild(docLink);\n",
              "        }\n",
              "      </script>\n",
              "    </div>\n",
              "  </div>\n",
              "  "
            ]
          },
          "metadata": {},
          "execution_count": 10
        }
      ]
    },
    {
      "cell_type": "markdown",
      "source": [
        "#### add tokenizer function to convert text into sequence of number \"pad\""
      ],
      "metadata": {
        "id": "czgYvFYElS6_"
      }
    },
    {
      "cell_type": "code",
      "source": [
        "def tokenize(lang):\n",
        "\n",
        "    lang_tokenizer = tf.keras.preprocessing.text.Tokenizer(\n",
        "        oov_token=\"\", filters='!\"#$%&()*+,-./:;=?@[\\]^_`{|}~\\t\\n'\n",
        "    )  \n",
        "\n",
        "    lang_tokenizer.fit_on_texts(lang)\n",
        "\n",
        "    tensor = lang_tokenizer.texts_to_sequences(lang)\n",
        "\n",
        "    tensor = tf.keras.preprocessing.sequence.pad_sequences(tensor, padding=\"post\")\n",
        "\n",
        "    return tensor, lang_tokenizer"
      ],
      "metadata": {
        "id": "qbcsNr6nlWFw"
      },
      "execution_count": 11,
      "outputs": []
    },
    {
      "cell_type": "markdown",
      "source": [
        "#### tokenize the data\n",
        "\n"
      ],
      "metadata": {
        "id": "pecIzsV8KRVz"
      }
    },
    {
      "cell_type": "code",
      "source": [
        "question_sequence, question_tokenizer = tokenize(data_frame.question)\n",
        "answer_sequence, answer_tokenizer = tokenize(data_frame.answer)"
      ],
      "metadata": {
        "id": "HTHuqszDtdiF"
      },
      "execution_count": 12,
      "outputs": []
    },
    {
      "cell_type": "code",
      "source": [
        "vocab_inp_size = len(question_tokenizer.word_index) + 1\n",
        "vocab_tar_size = len(answer_tokenizer.word_index) + 1\n",
        "\n",
        "embedding_dim = 256\n",
        "\n",
        "units = 1024\n",
        "\n",
        "batch_size = 32"
      ],
      "metadata": {
        "id": "yhdGS4d5BlW2"
      },
      "execution_count": 13,
      "outputs": []
    },
    {
      "cell_type": "markdown",
      "source": [
        "#### split the data into training , validation"
      ],
      "metadata": {
        "id": "Jt4-15mQmorf"
      }
    },
    {
      "cell_type": "code",
      "source": [
        "x_train, x_test, y_train, y_test = model_selection.train_test_split(\n",
        "    question_sequence, answer_sequence, test_size=0.2\n",
        ")"
      ],
      "metadata": {
        "id": "dapBfu78CNA9"
      },
      "execution_count": 14,
      "outputs": []
    },
    {
      "cell_type": "code",
      "source": [
        "def convert(token, tensor):\n",
        "    for t in tensor:\n",
        "        if t != 0:\n",
        "            print(\"%d -> %s\" % (t, token.index_word[t]))"
      ],
      "metadata": {
        "id": "y2fJsOzbCTLJ"
      },
      "execution_count": 15,
      "outputs": []
    },
    {
      "cell_type": "code",
      "source": [
        "def data_pipline(x, y, batch_size=32):\n",
        "    data = tf.data.Dataset.from_tensor_slices((x, y))\n",
        "\n",
        "    data = data.shuffle(1028)\n",
        "\n",
        "    data = data.batch(batch_size, drop_remainder=True)\n",
        "\n",
        "    data = data.prefetch(tf.data.AUTOTUNE)\n",
        "\n",
        "    return data\n",
        "\n",
        "\n",
        "train_dataset = data_pipline(x_train, y_train)\n",
        "\n",
        "test_dataset = data_pipline(x_test, y_test)     "
      ],
      "metadata": {
        "id": "-lGph69pCnvf"
      },
      "execution_count": 16,
      "outputs": []
    },
    {
      "cell_type": "markdown",
      "source": [
        "# 4. Modeling"
      ],
      "metadata": {
        "id": "3PDsZ7n5FdN9"
      }
    },
    {
      "cell_type": "markdown",
      "source": [
        "## Encoder"
      ],
      "metadata": {
        "id": "ha0vT2YoDaKa"
      }
    },
    {
      "cell_type": "code",
      "source": [
        "class Encoder(tf.keras.Model):\n",
        "    def __init__(self, vocab_size, embedding_dim, encoder_units, batch_size):\n",
        "        super(Encoder, self).__init__()\n",
        "  \n",
        "        self.batch_size = batch_size\n",
        "        self.encoder_units = encoder_units\n",
        "\n",
        "        self.embedding = tf.keras.layers.Embedding(\n",
        "            vocab_size, embedding_dim, mask_zero=True\n",
        "        )\n",
        "\n",
        "        self.gru = tf.keras.layers.GRU(\n",
        "            self.encoder_units,\n",
        "            return_sequences=True,\n",
        "            return_state=True,\n",
        "            recurrent_initializer=\"glorot_uniform\",\n",
        "        )\n",
        "\n",
        "    def call(self, x, hidden):\n",
        "        x = self.embedding(x)\n",
        "       \n",
        "        output, state = self.gru(x, initial_state=hidden)\n",
        "\n",
        "        return output, state\n",
        "\n",
        "    def initialize_hidden_state(self):\n",
        "        return tf.zeros((self.batch_size, self.encoder_units))"
      ],
      "metadata": {
        "id": "x54w0V2FCzIZ"
      },
      "execution_count": 17,
      "outputs": []
    },
    {
      "cell_type": "markdown",
      "source": [
        "## Decoder"
      ],
      "metadata": {
        "id": "scc84dkADfFt"
      }
    },
    {
      "cell_type": "code",
      "source": [
        "class Decoder(tf.keras.Model):\n",
        "    def __init__(self, vocab_size, embedding_dim, decoder_units, batch_size):\n",
        "        super(Decoder, self).__init__()\n",
        "        self.batch_size = batch_size\n",
        "        self.decoder_units = decoder_units\n",
        "\n",
        "        self.embedding = tf.keras.layers.Embedding(\n",
        "            vocab_size, embedding_dim, mask_zero=True\n",
        "        )\n",
        "\n",
        "        self.gru = tf.keras.layers.GRU(\n",
        "            self.decoder_units,\n",
        "            return_sequences=True,\n",
        "            return_state=True,\n",
        "            recurrent_initializer=\"glorot_uniform\",\n",
        "        )\n",
        "\n",
        "        self.fc = tf.keras.layers.Dense(vocab_size)\n",
        "\n",
        "    def call(self, x, hidden):\n",
        "\n",
        "        x = self.embedding(x)\n",
        "\n",
        "        output, hidden = self.gru(x, hidden)\n",
        "\n",
        "        output = tf.reshape(output, (-1, output.shape[2]))\n",
        "\n",
        "        x = tf.nn.softmax(self.fc(output))\n",
        "\n",
        "        return x, hidden"
      ],
      "metadata": {
        "id": "Ni3C6WQaDOVa"
      },
      "execution_count": 18,
      "outputs": []
    },
    {
      "cell_type": "code",
      "source": [
        "encoder = Encoder(vocab_inp_size, embedding_dim, units, batch_size)\n",
        "\n",
        "# initialize the hidden state\n",
        "sample_hidden = encoder.initialize_hidden_state()\n",
        "sample_output, sample_hidden = encoder(question_sequence[:32], sample_hidden)\n",
        "print(\n",
        "    \"Encoder output shape: (batch size, sequence length, units) {}\".format(\n",
        "        sample_output.shape\n",
        "    )\n",
        ")\n",
        "print(\"Encoder Hidden state shape: (batch size, units) {}\".format(sample_hidden.shape))"
      ],
      "metadata": {
        "colab": {
          "base_uri": "https://localhost:8080/"
        },
        "id": "83YqIkJtDOKq",
        "outputId": "9d8f2777-93ef-426b-80a5-8ffb7eab8cf8"
      },
      "execution_count": 19,
      "outputs": [
        {
          "output_type": "stream",
          "name": "stdout",
          "text": [
            "Encoder output shape: (batch size, sequence length, units) (32, 29, 1024)\n",
            "Encoder Hidden state shape: (batch size, units) (32, 1024)\n"
          ]
        }
      ]
    },
    {
      "cell_type": "code",
      "source": [
        "decoder = Decoder(vocab_tar_size, embedding_dim, units, batch_size)\n",
        "# the shape of sample hidden is (batch_size, units)\n",
        "sample_decoder_output, _ = decoder(tf.random.uniform((batch_size, 1)), sample_hidden)\n",
        "\n",
        "print(\n",
        "    \"Decoder output shape: (batch_size, vocab size) {}\".format(\n",
        "        sample_decoder_output.shape\n",
        "    )\n",
        ")"
      ],
      "metadata": {
        "colab": {
          "base_uri": "https://localhost:8080/"
        },
        "id": "q87Ft-ONFRYC",
        "outputId": "bfc4179c-2eb4-4b8d-9f18-189e942f376c"
      },
      "execution_count": 20,
      "outputs": [
        {
          "output_type": "stream",
          "name": "stdout",
          "text": [
            "Decoder output shape: (batch_size, vocab size) (32, 27873)\n"
          ]
        }
      ]
    },
    {
      "cell_type": "markdown",
      "source": [
        "## Optimizer & Loss Function"
      ],
      "metadata": {
        "id": "_lVUR3ozFwh-"
      }
    },
    {
      "cell_type": "code",
      "source": [
        "optimizer = tf.keras.optimizers.Adam()\n",
        "\n",
        "loss_object = tf.keras.losses.SparseCategoricalCrossentropy(\n",
        "    from_logits=False, reduction=\"none\"\n",
        ")\n",
        "\n",
        "def loss_function(real, pred):\n",
        "    # create the mask to ignore the padding tokens\n",
        "    mask = tf.math.logical_not(tf.math.equal(real, 0))\n",
        "\n",
        "    loss_ = loss_object(real, pred)\n",
        "\n",
        "    mask = tf.cast(mask, dtype=loss_.dtype)\n",
        "\n",
        "    loss_ *= mask\n",
        "\n",
        "    return tf.reduce_mean(loss_)"
      ],
      "metadata": {
        "id": "QPoOHwIbFwKp"
      },
      "execution_count": 21,
      "outputs": []
    },
    {
      "cell_type": "code",
      "source": [
        "train_loss = tf.metrics.Mean(name=\"train loss\")\n",
        "\n",
        "test_loss = tf.metrics.Mean(name=\"test loss\")"
      ],
      "metadata": {
        "id": "nyhr2RXkFmGn"
      },
      "execution_count": 22,
      "outputs": []
    },
    {
      "cell_type": "markdown",
      "source": [
        "## Model Training"
      ],
      "metadata": {
        "id": "E0qYtuwxHjk6"
      }
    },
    {
      "cell_type": "code",
      "source": [
        "@tf.function\n",
        "\n",
        "def train_step(inputs, target, enc_hidden):\n",
        "\n",
        "    loss = 0\n",
        "\n",
        "    with tf.GradientTape() as tape:\n",
        "        \n",
        "        enc_output, enc_hidden = encoder(inputs, enc_hidden)\n",
        "\n",
        "        dec_hidden = enc_hidden\n",
        "\n",
        "        dec_input = tf.expand_dims(\n",
        "            [answer_tokenizer.word_index[\"\"]] * inputs.shape[0], 1\n",
        "        )\n",
        "\n",
        "        for t in range(1, target.shape[1]):\n",
        "            predictions, dec_hidden = decoder(dec_input, dec_hidden)\n",
        "\n",
        "            loss += loss_function(target[:, t], predictions)\n",
        "\n",
        "            dec_input = tf.expand_dims(target[:, t], 1)\n",
        "\n",
        "    batch_loss = loss / int(target.shape[1])\n",
        "\n",
        "    variables = encoder.trainable_variables + decoder.trainable_variables\n",
        "\n",
        "    gradients = tape.gradient(loss, variables)\n",
        "\n",
        "    optimizer.apply_gradients(zip(gradients, variables))\n",
        "\n",
        "    train_loss(batch_loss)\n",
        "    return batch_loss"
      ],
      "metadata": {
        "id": "MAkXU3NNFmfM"
      },
      "execution_count": 23,
      "outputs": []
    },
    {
      "cell_type": "code",
      "source": [
        "@tf.function\n",
        "\n",
        "def test_step(inputs, target, enc_hidden):\n",
        "    loss = 0\n",
        "    \n",
        "    enc_output, enc_hidden = encoder(inputs, enc_hidden)\n",
        "\n",
        "    dec_hidden = enc_hidden\n",
        "\n",
        "    dec_input = tf.expand_dims(\n",
        "        [answer_tokenizer.word_index[\"\"]] * inputs.shape[0], 1\n",
        "    )\n",
        "    for t in range(1, target.shape[1]):\n",
        "\n",
        "        predictions, dec_hidden = decoder(dec_input, dec_hidden)\n",
        "\n",
        "        loss += loss_function(target[:, t], predictions)\n",
        "\n",
        "        dec_input = tf.expand_dims(target[:, t], 1)\n",
        "\n",
        "    batch_loss = loss / int(target.shape[1])\n",
        "\n",
        "    test_loss(batch_loss)"
      ],
      "metadata": {
        "id": "EY-agwr8FmWF"
      },
      "execution_count": 24,
      "outputs": []
    },
    {
      "cell_type": "markdown",
      "source": [
        "## Training Loop"
      ],
      "metadata": {
        "id": "ssZyl4fUH87y"
      }
    },
    {
      "cell_type": "code",
      "source": [
        "EPOCHS = 10\n",
        "\n",
        "for epoch in range(EPOCHS):\n",
        "\n",
        "    train_loss.reset_states()\n",
        "\n",
        "    test_loss.reset_states()\n",
        "\n",
        "    # initalize the hidden state of the encoder to zeros\n",
        "    enc_hidden = encoder.initialize_hidden_state()\n",
        "\n",
        "    steps_per_epoch = (\n",
        "        answer_sequence.shape[0] // batch_size\n",
        "    )  # => 4356 batch in the dataset\n",
        "    bar = tf.keras.utils.Progbar(target=steps_per_epoch)\n",
        "\n",
        "    count = 0\n",
        "    # iterate over the training dataset\n",
        "    for (batch, (inputs, target)) in enumerate(train_dataset):\n",
        "        # update the progress bar\n",
        "        count += 1\n",
        "        # run the training step\n",
        "        batch_loss = train_step(inputs, target, enc_hidden)\n",
        "        bar.update(count)  # manually update the progress bar\n",
        "\n",
        "    # iterate over the testing dataset\n",
        "    for (batch, (inputs, target)) in enumerate(test_dataset):\n",
        "        count += 1\n",
        "        # run the testing step\n",
        "        batch_loss = test_step(inputs, target, enc_hidden)\n",
        "        bar.update(count)\n",
        "\n",
        "    print(\"#\" * 100)\n",
        "    print(f\"Epoch #{epoch + 1}\")\n",
        "    print(f\"Training Loss {train_loss.result()}\")\n",
        "    print(f\"Testing Loss {test_loss.result()}\")\n",
        "    print(\"#\" * 100)"
      ],
      "metadata": {
        "colab": {
          "base_uri": "https://localhost:8080/"
        },
        "id": "m52JNHKMFmRp",
        "outputId": "c25d5fdd-e5d5-4853-8b76-2a8f64de1217"
      },
      "execution_count": 25,
      "outputs": [
        {
          "output_type": "stream",
          "name": "stdout",
          "text": [
            "4356/4356 [==============================] - 938s 197ms/step\n",
            "####################################################################################################\n",
            "Epoch #1\n",
            "Training Loss 1.4109516143798828\n",
            "Testing Loss 1.2998616695404053\n",
            "####################################################################################################\n",
            "4356/4356 [==============================] - 797s 183ms/step\n",
            "####################################################################################################\n",
            "Epoch #2\n",
            "Training Loss 1.199803113937378\n",
            "Testing Loss 1.292590618133545\n",
            "####################################################################################################\n",
            "4356/4356 [==============================] - 798s 183ms/step\n",
            "####################################################################################################\n",
            "Epoch #3\n",
            "Training Loss 1.046667456626892\n",
            "Testing Loss 1.340939998626709\n",
            "####################################################################################################\n",
            "4356/4356 [==============================] - 803s 184ms/step\n",
            "####################################################################################################\n",
            "Epoch #4\n",
            "Training Loss 0.901482105255127\n",
            "Testing Loss 1.4044268131256104\n",
            "####################################################################################################\n",
            "4356/4356 [==============================] - 790s 181ms/step\n",
            "####################################################################################################\n",
            "Epoch #5\n",
            "Training Loss 0.7927318215370178\n",
            "Testing Loss 1.4615625143051147\n",
            "####################################################################################################\n",
            "4356/4356 [==============================] - 786s 181ms/step\n",
            "####################################################################################################\n",
            "Epoch #6\n",
            "Training Loss 0.7069261074066162\n",
            "Testing Loss 1.5256041288375854\n",
            "####################################################################################################\n",
            "4356/4356 [==============================] - 788s 181ms/step\n",
            "####################################################################################################\n",
            "Epoch #7\n",
            "Training Loss 0.6381044387817383\n",
            "Testing Loss 1.5884571075439453\n",
            "####################################################################################################\n",
            "4356/4356 [==============================] - 788s 181ms/step\n",
            "####################################################################################################\n",
            "Epoch #8\n",
            "Training Loss 0.584112823009491\n",
            "Testing Loss 1.6500322818756104\n",
            "####################################################################################################\n",
            "4356/4356 [==============================] - 786s 180ms/step\n",
            "####################################################################################################\n",
            "Epoch #9\n",
            "Training Loss 0.542515754699707\n",
            "Testing Loss 1.7127978801727295\n",
            "####################################################################################################\n",
            "4356/4356 [==============================] - 786s 181ms/step\n",
            "####################################################################################################\n",
            "Epoch #10\n",
            "Training Loss 0.5109015107154846\n",
            "Testing Loss 1.7690215110778809\n",
            "####################################################################################################\n"
          ]
        }
      ]
    },
    {
      "cell_type": "markdown",
      "source": [
        "# 5. Model Testing"
      ],
      "metadata": {
        "id": "Na49Xmwglbx7"
      }
    },
    {
      "cell_type": "code",
      "source": [
        "def chatbot(sentence):\n",
        "\n",
        "    # clean the input question sentence\n",
        "    sentence = cleaning_text(sentence)\n",
        "    # add the start token to the sentence\n",
        "    sentence = add_start_end(sentence)\n",
        "    # tokenize the sentence\n",
        "    inputs = question_tokenizer.texts_to_sequences([sentence])\n",
        "    # pad the sentence\n",
        "    inputs = tf.keras.preprocessing.sequence.pad_sequences(\n",
        "        inputs, maxlen=29, padding=\"post\"\n",
        "    )\n",
        "\n",
        "    # initalize the hidden state of the encoder to zeros\n",
        "    hidden = [tf.zeros((1, units))]\n",
        "    # pass the sentence to the encoder with the hidden state as the initial hidden state\n",
        "    enc_out, enc_hidden = encoder(inputs, hidden)\n",
        "    # set the initial decoder hidden state to the encoder hidden state\n",
        "    dec_hidden = enc_hidden\n",
        "    # create the start token\n",
        "    # start_token shape == (batch_size, 1)\n",
        "    # repeat the start token for the batch size times\n",
        "    dec_input = tf.expand_dims([answer_tokenizer.word_index[\"\"]], 0)\n",
        "    # create the result string\n",
        "    result = \"\"\n",
        "    # loop over the length of the sentence (32)\n",
        "\n",
        "    for t in range(32):\n",
        "        # passing the encoder output and the decoder hidden state to the decoder make sure the decoder input is the previous predicted word\n",
        "        predictions, dec_hidden = decoder(dec_input, dec_hidden)\n",
        "\n",
        "        # getting the predicted word index\n",
        "        predicted_id = tf.argmax(predictions[0]).numpy()\n",
        "        # getting the predicted word using the predicted index\n",
        "        # add the predicted word to the result string\n",
        "        result += answer_tokenizer.index_word[predicted_id] + \" \"\n",
        "        # if the predicted word is the  token then stop the loop\n",
        "        if answer_tokenizer.index_word[predicted_id] == \"\":\n",
        "            # remove the  and  tokens from the result string\n",
        "            result = result.replace(\" \", \"\")\n",
        "            result = result.replace(\"  \", \"\")\n",
        "            # remove the  and  tokens from the sentence string\n",
        "            sentence = sentence.replace(\" \", \"\")\n",
        "            sentence = sentence.replace(\" \", \"\")\n",
        "            return sentence, result\n",
        "\n",
        "        # using the predicted word as the next decoder input\n",
        "        dec_input = tf.expand_dims([predicted_id], 0)\n",
        "    # remove the  and  tokens from the result string\n",
        "    result = result.replace(\"<end>\", \"\")\n",
        "\n",
        "    return result\n"
      ],
      "metadata": {
        "id": "HTv2_VFXIbEG"
      },
      "execution_count": 26,
      "outputs": []
    },
    {
      "cell_type": "code",
      "source": [
        "while True:\n",
        "    message = input('Enter Message or type q to quit : \\n')\n",
        "    if message =='q':\n",
        "        break\n",
        "    output = chatbot(message)\n",
        "    print('Bot : ',output)"
      ],
      "metadata": {
        "colab": {
          "base_uri": "https://localhost:8080/"
        },
        "id": "VpN1NqCkPzOn",
        "outputId": "61bd43d7-140e-44e1-dcc3-39b9b8cdfd59"
      },
      "execution_count": 31,
      "outputs": [
        {
          "name": "stdout",
          "output_type": "stream",
          "text": [
            "Enter Message or type q to quit : \n",
            "hello\n",
            "Bot :  who is this  you got no problem here you re going with the list                  \n",
            "Enter Message or type q to quit : \n",
            "how are you?\n",
            "Bot :  verb roger this is edie finneran edie this is roger kint he was killed                   \n",
            "Enter Message or type q to quit : \n",
            "what is the weather today?\n",
            "Bot :  it is within hours   when she comes to the jungle                     \n",
            "Enter Message or type q to quit : \n",
            "good bye\n",
            "Bot :  good bye                               \n",
            "Enter Message or type q to quit : \n",
            "q\n"
          ]
        }
      ]
    }
  ]
}